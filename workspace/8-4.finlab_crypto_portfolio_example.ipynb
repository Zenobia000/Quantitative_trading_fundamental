{
 "cells": [
  {
   "cell_type": "markdown",
   "metadata": {
    "id": "F-jXKfGMhmjo"
   },
   "source": [
    "# Setup"
   ]
  },
  {
   "cell_type": "code",
   "execution_count": null,
   "metadata": {
    "id": "0UO4H8f5hl4x"
   },
   "outputs": [],
   "source": [
    "!pip install finlab_crypto > log.txt\n",
    "!pip install talib-binary > log.txt"
   ]
  },
  {
   "cell_type": "markdown",
   "metadata": {
    "id": "DRfoB3othoZR"
   },
   "source": [
    "# Configuration"
   ]
  },
  {
   "cell_type": "code",
   "execution_count": null,
   "metadata": {
    "id": "P6VjP7vuZywB"
   },
   "outputs": [],
   "source": [
    "# finlab_crypto >= 0.1.14 更新\n",
    "# 不需要這段冗贅的程式碼囉！"
   ]
  },
  {
   "cell_type": "markdown",
   "metadata": {
    "id": "3B93WAXbhq9c"
   },
   "source": [
    "# Define Strategy\n"
   ]
  },
  {
   "cell_type": "code",
   "execution_count": null,
   "metadata": {
    "id": "rcDnoKukcTbz"
   },
   "outputs": [],
   "source": [
    "from finlab_crypto.strategy import Strategy\n",
    "from finlab_crypto.indicators import trends\n",
    "\n",
    "@Strategy(name='sma', n1=20, n2=40)\n",
    "def trend_strategy(ohlcv):\n",
    "  name = trend_strategy.name\n",
    "  n1 = trend_strategy.n1\n",
    "  n2 = trend_strategy.n2\n",
    "\n",
    "  filtered1 = trends[name](ohlcv.close, n1)\n",
    "  filtered2 = trends[name](ohlcv.close, n2)\n",
    "\n",
    "  entries = (filtered1 > filtered2) & (filtered1.shift() < filtered2.shift())\n",
    "  exit = (filtered1 < filtered2) & (filtered1.shift() > filtered2.shift())\n",
    "\n",
    "  figures = {\n",
    "      'overlaps': {\n",
    "          'trend1': filtered1,\n",
    "          'trend2': filtered2,\n",
    "      }\n",
    "  }\n",
    "  return entries, exit, figures\n",
    "\n",
    "\n",
    "# altcoin strategy\n",
    "# --------------------\n",
    "# 'XRPBTC', 'ADABTC', 'LINKBTC', 'ETHBTC', 'VETBTC'\n",
    "# trend_strategy(ohlcv, variables={'name': 'sma', 'n1', 30, 'n2': 130}, freq='4h')\n",
    "from finlab_crypto.online import TradingMethod, TradingPortfolio\n",
    "\n",
    "tm1 = TradingMethod(\n",
    "    symbols=['XRPUSDT', 'ADAUSDT', 'LINKUSDT', 'ETHBTC', 'VETBTC'],\n",
    "    freq='4h',\n",
    "    # lookback:backtest data length\n",
    "    lookback=1500,\n",
    "    strategy=trend_strategy,\n",
    "    variables=dict(\n",
    "      name='sma',\n",
    "      n1=30,\n",
    "      n2=130,\n",
    "    ),\n",
    "    filters={},\n",
    "    # how to set weight_btc?Please see teacher additional materials.\n",
    "    weight_btc=0.2,\n",
    "    name='altcoin-trend-hullma'\n",
    ")\n",
    "\n",
    "# btc strategy\n",
    "# --------------------\n",
    "# 'BTCUSDT'\n",
    "# trend_strategy(ohlcv, variables={'name': 'hullma', 'n1', 70, 'n2': 108}, freq='4h')\n",
    "\n",
    "tm2 = TradingMethod(\n",
    "    symbols=['BTCUSDT'],\n",
    "    freq='4h',\n",
    "    lookback=1500,\n",
    "    strategy=trend_strategy,\n",
    "    variables=dict(\n",
    "        name='hullma',\n",
    "        n1=70,\n",
    "        n2=108,\n",
    "    ),\n",
    "    filters={},\n",
    "    weight_btc=1,\n",
    "    name='btc-trend-hullma'\n",
    ")"
   ]
  },
  {
   "cell_type": "markdown",
   "metadata": {
    "id": "voJKlFSAbGbk"
   },
   "source": [
    "# Build Trading Portfolio"
   ]
  },
  {
   "cell_type": "code",
   "execution_count": null,
   "metadata": {
    "id": "r3AQr3d1agz0"
   },
   "outputs": [],
   "source": [
    "# Binance api key and secret\n",
    "key = ''\n",
    "secret = ''\n",
    "\n",
    "tp = TradingPortfolio(key, secret)\n",
    "tp.register(tm1)\n",
    "tp.register(tm2)\n",
    "tp.register_margin('USDT', 15000)"
   ]
  },
  {
   "cell_type": "markdown",
   "metadata": {
    "id": "_zA0b6QlCrGJ"
   },
   "source": [
    "# Backtest Trading Portfolio"
   ]
  },
  {
   "cell_type": "code",
   "execution_count": null,
   "metadata": {
    "id": "BagvcbQukGam"
   },
   "outputs": [],
   "source": [
    "import finlab_crypto\n",
    "finlab_crypto.setup()"
   ]
  },
  {
   "cell_type": "code",
   "execution_count": null,
   "metadata": {
    "id": "CBFX_yjDCmxl"
   },
   "outputs": [],
   "source": [
    "# get all price data\n",
    "full_ohlcvs = tp.get_full_ohlcvs()\n",
    "results = tp.status(full_ohlcvs)"
   ]
  },
  {
   "cell_type": "markdown",
   "metadata": {
    "id": "tQhDjf8LcqOX"
   },
   "source": [
    "# Portfolio Backtest"
   ]
  },
  {
   "cell_type": "code",
   "execution_count": null,
   "metadata": {
    "id": "XwjIEhAmcui_"
   },
   "outputs": [],
   "source": [
    "asset_returns = tp.portfolio_backtest(full_ohlcvs, '4h')"
   ]
  },
  {
   "cell_type": "markdown",
   "metadata": {
    "id": "HGq_aK5YiUbV"
   },
   "source": [
    "# Recent Signal\n"
   ]
  },
  {
   "cell_type": "code",
   "execution_count": null,
   "metadata": {
    "id": "yZEDCkx9lOD2"
   },
   "outputs": [],
   "source": [
    "ohlcvs = tp.get_ohlcvs()\n",
    "signals = tp.get_latest_signals(ohlcvs)\n",
    "signals"
   ]
  },
  {
   "cell_type": "markdown",
   "metadata": {
    "id": "hvy4GhwHXaHK"
   },
   "source": [
    "# Create new orders\n"
   ]
  },
  {
   "cell_type": "code",
   "execution_count": null,
   "metadata": {
    "id": "mWQhzr-il-sZ"
   },
   "outputs": [],
   "source": [
    "position, position_in_btc, new_orders = tp.calculate_position_size(signals)\n",
    "position_in_btc"
   ]
  },
  {
   "cell_type": "code",
   "execution_count": null,
   "metadata": {
    "id": "nHKSdVLDnO2c"
   },
   "outputs": [],
   "source": [
    "new_orders"
   ]
  },
  {
   "cell_type": "markdown",
   "metadata": {
    "id": "19W9HmfOXcXL"
   },
   "source": [
    "# Execute Orders\n"
   ]
  },
  {
   "cell_type": "code",
   "execution_count": null,
   "metadata": {
    "id": "c92BLreDv3Fa"
   },
   "outputs": [],
   "source": [
    "# mode = 'LIMIT'\n",
    "# mode = 'MARKET'\n",
    "# mode = 'TEST'\n",
    "order_results = tp.execute_orders(new_orders, mode='TEST')\n",
    "order_results"
   ]
  }
 ],
 "metadata": {
  "colab": {
   "provenance": [],
   "toc_visible": true
  },
  "kernelspec": {
   "display_name": "Python 3 (ipykernel)",
   "language": "python",
   "name": "python3"
  },
  "language_info": {
   "codemirror_mode": {
    "name": "ipython",
    "version": 3
   },
   "file_extension": ".py",
   "mimetype": "text/x-python",
   "name": "python",
   "nbconvert_exporter": "python",
   "pygments_lexer": "ipython3",
   "version": "3.10.12"
  }
 },
 "nbformat": 4,
 "nbformat_minor": 4
}
