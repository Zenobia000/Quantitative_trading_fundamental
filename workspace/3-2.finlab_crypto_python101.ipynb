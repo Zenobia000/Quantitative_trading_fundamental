{
 "cells": [
  {
   "cell_type": "markdown",
   "metadata": {
    "id": "As6l7OPhK2RM"
   },
   "source": [
    "# Variables, Control Flow and Looping"
   ]
  },
  {
   "cell_type": "markdown",
   "metadata": {
    "id": "Xy0ScGGdK7If"
   },
   "source": [
    "## Assignment and Math calculations"
   ]
  },
  {
   "cell_type": "code",
   "execution_count": null,
   "metadata": {
    "id": "N0rRNPWzKScy"
   },
   "outputs": [],
   "source": [
    "btc_binance = 10520.97\n",
    "btc_bitmex = 10516.5"
   ]
  },
  {
   "cell_type": "code",
   "execution_count": null,
   "metadata": {
    "id": "K92ftxFzMnUw"
   },
   "outputs": [],
   "source": [
    "eth_binance = 345.74\n",
    "eth_bitmex = 345.75"
   ]
  },
  {
   "cell_type": "markdown",
   "metadata": {
    "id": "ommsvwLwLA8u"
   },
   "source": [
    "## Control Flow"
   ]
  },
  {
   "cell_type": "code",
   "execution_count": null,
   "metadata": {
    "colab": {
     "base_uri": "https://localhost:8080/",
     "height": 34
    },
    "id": "q2adbRxiLC81",
    "outputId": "458d1105-58da-46e7-de8a-32be770771f7"
   },
   "outputs": [],
   "source": [
    "# should we buy btc at binance or bitmex?\n",
    "result = ''\n",
    "\n",
    "if btc_binance <= btc_bitmex:\n",
    "  result = 'buy btc at binance'\n",
    "elif btc_bitmex < btc_binance:\n",
    "  result = 'buy btc at bitmex'\n",
    "\n",
    "print(result)"
   ]
  },
  {
   "cell_type": "code",
   "execution_count": null,
   "metadata": {
    "colab": {
     "base_uri": "https://localhost:8080/"
    },
    "id": "kk2DKtUyNmJ-",
    "outputId": "2147a1c2-996f-4558-da97-bc2622917483"
   },
   "outputs": [],
   "source": [
    "# should we buy eth at binance or bitmex?\n",
    "result = ''\n",
    "\n",
    "if eth_binance <= eth_bitmex:\n",
    "  result = 'buy eth at binance'\n",
    "elif eth_bitmex < eth_binance:\n",
    "  result = 'buy eth at bitmex'\n",
    "\n",
    "print(result)"
   ]
  },
  {
   "cell_type": "markdown",
   "metadata": {
    "id": "9PiVYlavLW9s"
   },
   "source": [
    "# Data structure\n",
    "## List"
   ]
  },
  {
   "cell_type": "code",
   "execution_count": null,
   "metadata": {
    "colab": {
     "base_uri": "https://localhost:8080/"
    },
    "id": "D844SyIDLfsV",
    "outputId": "3b7ab1c1-ecd9-42f3-b8c0-ff927920b704"
   },
   "outputs": [],
   "source": [
    "btc_price = [10736.32, 10686.67, 10728.6, 10774.25, 10696.12, 10840.48, 10776.59, 10619.13, 10570.4, 10523.92]\n",
    "eth_price = [348.97, 351.92, 353.92, 357.49, 353.96, 359.79, 359.83, 352.85, 345.6, 345.64]\n",
    "\n",
    "# Is BTC rising or falling?\n",
    "print('Is BTC rising or falling?')\n",
    "print(btc_price[9] > btc_price[0])\n",
    "\n",
    "# how much had BTC rising or falling (in percentage)?\n",
    "print('how much had BTC rising or falling (in percentage)?')\n",
    "print((btc_price[9] - btc_price[0]) / btc_price[0])\n",
    "\n",
    "# Is ETH rising or falling?\n",
    "print('Is ETH rising or falling?')\n",
    "print(eth_price[9] > eth_price[0])\n",
    "\n",
    "# how much ETH btc rising or falling (in percentage)?\n",
    "print('how much ETH btc rising or falling (in percentage)?')\n",
    "print((eth_price[9] - eth_price[0]) / eth_price[0])\n",
    "\n",
    "# which asset perform better?\n",
    "print('which asset perform better?')\n",
    "print(btc_price[9] / btc_price[0] > eth_price[9] / eth_price[0])"
   ]
  },
  {
   "cell_type": "markdown",
   "metadata": {
    "id": "IutAG6lULi0_"
   },
   "source": [
    "## Dictionary"
   ]
  },
  {
   "cell_type": "code",
   "execution_count": null,
   "metadata": {
    "colab": {
     "base_uri": "https://localhost:8080/",
     "height": 34
    },
    "id": "N0U7PRNdLj9G",
    "outputId": "08e09d80-85af-4017-88f1-75730fbdcbbf"
   },
   "outputs": [],
   "source": [
    "btc_price = {'binance': btc_binance, 'bitmex': btc_bitmex}\n",
    "print(btc_price)"
   ]
  },
  {
   "cell_type": "code",
   "execution_count": null,
   "metadata": {
    "id": "a76BKIKIQLAC"
   },
   "outputs": [],
   "source": [
    "# btc\n",
    "btc_price['binance']"
   ]
  },
  {
   "cell_type": "markdown",
   "metadata": {
    "id": "ocnkySDILpgF"
   },
   "source": [
    "## Iteration"
   ]
  },
  {
   "cell_type": "code",
   "execution_count": null,
   "metadata": {
    "colab": {
     "base_uri": "https://localhost:8080/"
    },
    "id": "cZt0bcclLqej",
    "outputId": "57377be1-3e7d-47d8-fe0d-c5eb328baca2"
   },
   "outputs": [],
   "source": [
    "btc_price = [10736.32, 10686.67, 10728.6, 10774.25, 10696.12, 10840.48, 10776.59, 10619.13, 10570.4, 10523.92]\n",
    "eth_price = [348.97, 351.92, 353.92, 357.49, 353.96, 359.79, 359.83, 352.85, 345.6, 345.64]\n",
    "\n",
    "# calculate number rise dates of btc_price\n",
    "rise_counter = 0\n",
    "for i in range(1, 10):\n",
    "  today_price = btc_price[i]\n",
    "  yesterday_price = btc_price[i-1]\n",
    "\n",
    "  if today_price > yesterday_price:\n",
    "    rise_counter = rise_counter + 1\n",
    "print('btc price rising days', rise_counter)\n",
    "\n",
    "# calculate rise dates of eth_price\n",
    "rise_counter = 0\n",
    "for i in range(1, 10):\n",
    "  today_price = eth_price[i]\n",
    "  yesterday_price = eth_price[i-1]\n",
    "\n",
    "  if today_price > yesterday_price:\n",
    "    rise_counter = rise_counter + 1\n",
    "print('eth price rising days', rise_counter)"
   ]
  },
  {
   "cell_type": "markdown",
   "metadata": {
    "id": "frD1VmQlLyQv"
   },
   "source": [
    "# Functions"
   ]
  },
  {
   "cell_type": "code",
   "execution_count": null,
   "metadata": {
    "colab": {
     "base_uri": "https://localhost:8080/"
    },
    "id": "yR1pKvH3LzHG",
    "outputId": "71523adf-f7e2-479e-8d25-6ccf8e20e42d"
   },
   "outputs": [],
   "source": [
    "# calculate mean of the btc_price\n",
    "print('btc price')\n",
    "print(sum(btc_price) / 10)\n",
    "\n",
    "# calculate mean of the eth_price\n",
    "print('eth price')\n",
    "print(sum(eth_price) / 10)"
   ]
  }
 ],
 "metadata": {
  "colab": {
   "provenance": []
  },
  "kernelspec": {
   "display_name": "Python 3 (ipykernel)",
   "language": "python",
   "name": "python3"
  },
  "language_info": {
   "codemirror_mode": {
    "name": "ipython",
    "version": 3
   },
   "file_extension": ".py",
   "mimetype": "text/x-python",
   "name": "python",
   "nbconvert_exporter": "python",
   "pygments_lexer": "ipython3",
   "version": "3.10.12"
  }
 },
 "nbformat": 4,
 "nbformat_minor": 4
}
