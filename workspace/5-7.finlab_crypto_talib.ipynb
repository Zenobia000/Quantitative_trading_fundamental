{
 "cells": [
  {
   "cell_type": "code",
   "execution_count": null,
   "metadata": {
    "id": "kFkS3aUX1joe"
   },
   "outputs": [],
   "source": [
    "!pip install finlab_crypto > log.txt\n",
    "!pip install talib-binary > log.txt"
   ]
  },
  {
   "cell_type": "code",
   "execution_count": null,
   "metadata": {
    "colab": {
     "base_uri": "https://localhost:8080/"
    },
    "id": "YUQuPa5j7pYh",
    "outputId": "fecac208-04db-41cc-d8a6-3c491e81d711"
   },
   "outputs": [],
   "source": [
    "import finlab_crypto\n",
    "finlab_crypto.setup()\n",
    "ohlcv = finlab_crypto.crawler.get_all_binance('BTCUSDT', '1h')"
   ]
  },
  {
   "cell_type": "markdown",
   "metadata": {
    "id": "ItP5_XKU7hlF"
   },
   "source": [
    "# MACD Strategy"
   ]
  },
  {
   "cell_type": "markdown",
   "metadata": {
    "id": "CxlxkkpV8TWQ"
   },
   "source": [
    "## View Talib function"
   ]
  },
  {
   "cell_type": "code",
   "execution_count": null,
   "metadata": {
    "colab": {
     "base_uri": "https://localhost:8080/"
    },
    "id": "GG0FeRAP8Vmh",
    "outputId": "21cc75d4-3f3d-4379-aa9f-7a26e2a7e2be"
   },
   "outputs": [],
   "source": [
    "import talib\n",
    "\n",
    "# show how to use talib.MACD\n",
    "help(talib.MACD)"
   ]
  },
  {
   "cell_type": "markdown",
   "metadata": {
    "id": "fjHKM6c48YcH"
   },
   "source": [
    "## Apply Talib function\n",
    "\n",
    "[isinstance api reference](https://www.w3schools.com/python/ref_func_isinstance.asp):check type"
   ]
  },
  {
   "cell_type": "code",
   "execution_count": null,
   "metadata": {
    "colab": {
     "base_uri": "https://localhost:8080/",
     "height": 331
    },
    "id": "s-_0vi-h8bZs",
    "outputId": "e0c9b445-3553-4637-e7ec-e4dbdcc2c9b7"
   },
   "outputs": [],
   "source": [
    "# only use masdhist ,choose [2]\n",
    "macdhist = talib.MACD(ohlcv.close, fastperiod=12, slowperiod=26, signalperiod=9)[2]\n",
    "macdhist.loc['2020-10'].plot()\n",
    "ohlcv.close.loc['2020-10'].plot(secondary_y=True)"
   ]
  },
  {
   "cell_type": "code",
   "execution_count": null,
   "metadata": {
    "id": "kc_wCeeboxoV"
   },
   "outputs": [],
   "source": [
    "# see all talib technical func\n",
    "#talib.get_functions()"
   ]
  },
  {
   "cell_type": "code",
   "execution_count": null,
   "metadata": {
    "colab": {
     "base_uri": "https://localhost:8080/",
     "height": 954
    },
    "id": "eF--Ltvs7GzB",
    "outputId": "30d79124-354b-4777-9eab-b4150f2cc834"
   },
   "outputs": [],
   "source": [
    "import numbers\n",
    "from finlab_crypto import Strategy\n",
    "\n",
    "# generate crossover signal\n",
    "def crossover(s1, s2):\n",
    "  # when s1=time_series and s2=constant(like 0)\n",
    "  if isinstance(s2, numbers.Number):\n",
    "    return (s1 > s2) & (s1.shift() < s2)\n",
    "  # when s1 and s2 are time_series\n",
    "  return (s1 > s2) & (s1.shift() < s2.shift())\n",
    "\n",
    "# generate crossunder signal\n",
    "def crossunder(s1, s2):\n",
    "  # when s1=time_series and s2=constant(like 0)\n",
    "  if isinstance(s2, numbers.Number):\n",
    "    return (s1 < s2) & (s1.shift() > s2)\n",
    "  # when s1 and s2 are time_series\n",
    "  return (s1 < s2) & (s1.shift() > s2.shift())\n",
    "\n",
    "# macd strategy\n",
    "@Strategy(fastperiod=12, slowperiod=26, signalperiod=9)\n",
    "def macd_strategy(ohlcv):\n",
    "    macdhist = talib.MACD(\n",
    "        ohlcv.close,\n",
    "        fastperiod=macd_strategy.fastperiod,\n",
    "        slowperiod=macd_strategy.slowperiod,\n",
    "        signalperiod=macd_strategy.signalperiod)[2]\n",
    "\n",
    "    entries = crossover(macdhist, 0)\n",
    "    exits = crossunder(macdhist, 0)\n",
    "    figures = {'figures':{'macdhist':macdhist}}\n",
    "    return entries, exits, figures\n",
    "\n",
    "# Diff:variables={} ,not None in vedio\n",
    "macd_strategy.backtest(ohlcv, variables={},freq='1h', plot=True)"
   ]
  },
  {
   "cell_type": "markdown",
   "metadata": {
    "id": "ha2350vB_o79"
   },
   "source": [
    "# Talib Wrapper\n",
    "\n",
    "[lambda api reference](https://www.w3schools.com/python/python_lambda.asp)\n",
    "\n",
    "### declare parameters:\n",
    "\n",
    "lambda ohlcv, macd\n",
    "\n",
    "### output\n",
    "\n",
    "crossover(macd.macdhist, 0)\n",
    "\n",
    "\n"
   ]
  },
  {
   "cell_type": "code",
   "execution_count": null,
   "metadata": {
    "colab": {
     "base_uri": "https://localhost:8080/"
    },
    "id": "sY_otOHHtDE_",
    "outputId": "476df325-de70-4da9-8f76-0afe476459ef"
   },
   "outputs": [],
   "source": [
    "help(talib.RSI)\n",
    "# TalibStrategy??"
   ]
  },
  {
   "cell_type": "code",
   "execution_count": null,
   "metadata": {
    "colab": {
     "base_uri": "https://localhost:8080/",
     "height": 954
    },
    "id": "cqWdylyb_qEU",
    "outputId": "ce65864d-47c8-464a-a1a0-97c865ea7ea6"
   },
   "outputs": [],
   "source": [
    "from finlab_crypto.talib_strategy import TalibStrategy\n",
    "\n",
    "# def entry_func(ohlcv,macd):\n",
    "#   return crossover(macd.macdhist,0)\n",
    "# def exit_func(ohlcv,macd):\n",
    "#   return crossunder(macd.macdhist,0)\n",
    "\n",
    "\n",
    "macd_strategy = TalibStrategy(\n",
    "    'MACD',\n",
    "    # ohlcv is required, we need it to generate macd\n",
    "    # entries = ret.entries(ohlcv, o)\n",
    "    # exits = ret.exits(ohlcv, o)\n",
    "    lambda ohlcv, macd: crossover(macd.macdhist, 0),\n",
    "    lambda ohlcv, macd: crossunder(macd.macdhist, 0),\n",
    ")\n",
    "\n",
    "#rsi_strategy = TalibStrategy(\n",
    "#    'RSI'\n",
    "#    lambda ohlcv, rsi: rsi > 50,\n",
    "#    lambda ohlcv, rsi: rsi < 50,\n",
    "#    )\n",
    "\n",
    "# Diff:variables={} ,not None in vedio\n",
    "macd_strategy.backtest(ohlcv, variables={}, freq='1h', plot=True)"
   ]
  },
  {
   "cell_type": "markdown",
   "metadata": {
    "id": "d9ha3bMU_4xi"
   },
   "source": [
    "# Talib Strategy Wrapper Exercise"
   ]
  },
  {
   "cell_type": "code",
   "execution_count": null,
   "metadata": {
    "colab": {
     "base_uri": "https://localhost:8080/"
    },
    "id": "fi1-zuUlAGht",
    "outputId": "8fad814c-ad72-478f-f702-5bc1b4f0245d"
   },
   "outputs": [],
   "source": [
    "help(talib.BBANDS)"
   ]
  },
  {
   "cell_type": "code",
   "execution_count": null,
   "metadata": {
    "colab": {
     "base_uri": "https://localhost:8080/",
     "height": 834
    },
    "id": "l7hUcuSp_7aT",
    "outputId": "3728fd2d-6714-42d1-d117-890d67cfac96"
   },
   "outputs": [],
   "source": [
    "# Build a bband breaout strategy\n",
    "bbands_strategy = TalibStrategy(\n",
    "    'BBANDS',\n",
    "    lambda ohlcv, bb: crossover(ohlcv.close, bb.upperband),\n",
    "    lambda ohlcv, bb: crossunder(ohlcv.close, bb.lowerband),\n",
    "    )\n",
    "\n",
    "bbands_strategy.backtest(ohlcv, variables={'timeperiod': 50}, freq='1h', plot=True)"
   ]
  },
  {
   "cell_type": "markdown",
   "metadata": {
    "id": "9iD2tZhxAgbp"
   },
   "source": [
    "# Talib Filter Wrapper"
   ]
  },
  {
   "cell_type": "code",
   "execution_count": null,
   "metadata": {
    "colab": {
     "base_uri": "https://localhost:8080/",
     "height": 532
    },
    "id": "2Q_RADR3A5zW",
    "outputId": "878aa351-205f-4887-e542-4963f096642d"
   },
   "outputs": [],
   "source": [
    "help(talib.LINEARREG_ANGLE)\n",
    "\n",
    "talib.LINEARREG_ANGLE(ohlcv.close, timeperiod=14).plot()"
   ]
  },
  {
   "cell_type": "code",
   "execution_count": null,
   "metadata": {
    "id": "l01xpMf-AkQ0"
   },
   "outputs": [],
   "source": [
    "from finlab_crypto.talib_filter import TalibFilter\n",
    "\n",
    "line_angle_filter = TalibFilter(\n",
    "    'LINEARREG_ANGLE',\n",
    "    lambda ohlcv, angle: angle > 0\n",
    ")"
   ]
  },
  {
   "cell_type": "code",
   "execution_count": null,
   "metadata": {
    "id": "hmjBs5uDDSyJ"
   },
   "outputs": [],
   "source": [
    "f14 = line_angle_filter.create({'timeperiod': 14})"
   ]
  },
  {
   "cell_type": "markdown",
   "metadata": {
    "id": "McIdPrXkBROo"
   },
   "source": [
    "# Combine talib strategy and filter"
   ]
  },
  {
   "cell_type": "code",
   "execution_count": null,
   "metadata": {
    "colab": {
     "base_uri": "https://localhost:8080/",
     "height": 1000,
     "referenced_widgets": [
      "a0ea8ba374c142d0ade3658825863788",
      "cdf6765134744a6daec499dbacaf3cb8",
      "e1638eaa07434d5791d33b12a323ae1d",
      "f17f012839134ac2801342ad7f31f4be",
      "61e6aa3a3b7045e7bbe3b24dfb053637",
      "29534eb56ece464b8c73b14de84a8f84",
      "8c30f77df2bf46e2a39510490b78a4c9",
      "beee2933b9d24bd4b33d82756f096aa5",
      "58550e6df22a4be0ab060530d81fb6ad",
      "9ec4e1c8803d42e6b6af2ceaba5afe33",
      "085805f269bb4f249cf3b104a416b7e6",
      "1e160417549949bb847173bd6e23d463",
      "b9f5f65ae4254c6e9edfc66f760070ae",
      "85c64b89454840e7a54f5e7ddf072c91",
      "ec16df9b38f74c99a57c6b5a8cb429ef",
      "64610cf5589d406e80e1cc5e6cda5926",
      "5cd556af8d0747ba9c5abd6b91b3dcdb",
      "226e657af4244679bfebb7622e7c3f67",
      "e9b3fdcb78534c14a3496081d6eb8fab",
      "48d8cf31430b4f99bc8ff38b9303a76a",
      "fe7cf8260eb34733845998ebf4c6d517",
      "a473c1f099c24a7595d3c9268d463a1a",
      "fdfd7f71e21a4235ac3f8bb5692fa5c4"
     ]
    },
    "id": "lu9mzWpgBN4r",
    "outputId": "56d1160c-4346-491e-9734-7e523411974e"
   },
   "outputs": [],
   "source": [
    "# macd_strategy\n",
    "# line_angle_filter\n",
    "from finlab_crypto.talib_strategy import TalibStrategy\n",
    "from finlab_crypto.talib_filter import TalibFilter\n",
    "\n",
    "def crossover(s1, s2):\n",
    "  if isinstance(s2, numbers.Number):\n",
    "    return (s1 > s2) & (s1.shift() < s2)\n",
    "  return (s1 > s2) & (s1.shift() < s2.shift())\n",
    "\n",
    "def crossunder(s1, s2):\n",
    "  if isinstance(s2, numbers.Number):\n",
    "    return (s1 < s2) & (s1.shift() > s2)\n",
    "  return (s1 < s2) & (s1.shift() > s2.shift())\n",
    "\n",
    "macd_strategy = TalibStrategy(\n",
    "    'MACD',\n",
    "    lambda ohlcv, macd: crossover(macd.macdhist, 0),\n",
    "    lambda ohlcv, macd: crossunder(macd.macdhist, 0),\n",
    ")\n",
    "\n",
    "line_angle_filter = TalibFilter(\n",
    "    'LINEARREG_ANGLE',\n",
    "    lambda ohlcv, angle: angle > 0\n",
    ")\n",
    "\n",
    "import numpy as np\n",
    "macd_vars = {\n",
    "             'fastperiod': np.arange(200, 400, 10),\n",
    "             'slowperiod': np.arange(200, 400, 10),\n",
    "             'signalperiod': 10}\n",
    "\n",
    "angle_vars = {'timeperiod': np.arange(20, 100, 10)}\n",
    "\n",
    "macd_strategy.backtest(ohlcv, variables=macd_vars,\n",
    "                       filters={'line_angle': line_angle_filter.create(angle_vars)},\n",
    "                       freq='1h', plot=True)"
   ]
  },
  {
   "cell_type": "code",
   "execution_count": null,
   "metadata": {
    "colab": {
     "base_uri": "https://localhost:8080/",
     "height": 1000
    },
    "id": "zozW2Gab1tVt",
    "outputId": "90bd9fc9-6f58-4780-df9f-20bd258858b2"
   },
   "outputs": [],
   "source": [
    "macd_vars = {\n",
    "    'fastperiod': 320,\n",
    "    'slowperiod': 300,\n",
    "    'signalperiod': 10,\n",
    "}\n",
    "\n",
    "line_angle_filter_vars = {\n",
    "    'timeperiod': 20,\n",
    "}\n",
    "\n",
    "portfolio = macd_strategy.backtest(\n",
    "    ohlcv.loc['2019':],\n",
    "    variables=macd_vars,\n",
    "    filters={'line_angle': line_angle_filter.create(line_angle_filter_vars)},\n",
    "    freq='1h', plot=True)"
   ]
  }
 ],
 "metadata": {
  "colab": {
   "provenance": []
  },
  "kernelspec": {
   "display_name": "Python 3 (ipykernel)",
   "language": "python",
   "name": "python3"
  },
  "language_info": {
   "codemirror_mode": {
    "name": "ipython",
    "version": 3
   },
   "file_extension": ".py",
   "mimetype": "text/x-python",
   "name": "python",
   "nbconvert_exporter": "python",
   "pygments_lexer": "ipython3",
   "version": "3.10.12"
  },
  "widgets": {
   "application/vnd.jupyter.widget-state+json": {
    "085805f269bb4f249cf3b104a416b7e6": {
     "model_module": "@jupyter-widgets/controls",
     "model_module_version": "1.5.0",
     "model_name": "DropdownModel",
     "state": {
      "_dom_classes": [],
      "_model_module": "@jupyter-widgets/controls",
      "_model_module_version": "1.5.0",
      "_model_name": "DropdownModel",
      "_options_labels": [
       "final_value",
       "calmar_ratio",
       "max_drawdown",
       "sharpe_ratio",
       "downside_risk",
       "omega_ratio",
       "conditional_value_at_risk"
      ],
      "_view_count": null,
      "_view_module": "@jupyter-widgets/controls",
      "_view_module_version": "1.5.0",
      "_view_name": "DropdownView",
      "description": "performance",
      "description_tooltip": null,
      "disabled": false,
      "index": 0,
      "layout": "IPY_MODEL_85c64b89454840e7a54f5e7ddf072c91",
      "style": "IPY_MODEL_b9f5f65ae4254c6e9edfc66f760070ae"
     }
    },
    "1e160417549949bb847173bd6e23d463": {
     "model_module": "@jupyter-widgets/controls",
     "model_module_version": "1.5.0",
     "model_name": "HBoxModel",
     "state": {
      "_dom_classes": [],
      "_model_module": "@jupyter-widgets/controls",
      "_model_module_version": "1.5.0",
      "_model_name": "HBoxModel",
      "_view_count": null,
      "_view_module": "@jupyter-widgets/controls",
      "_view_module_version": "1.5.0",
      "_view_name": "HBoxView",
      "box_style": "",
      "children": [
       "IPY_MODEL_64610cf5589d406e80e1cc5e6cda5926",
       "IPY_MODEL_5cd556af8d0747ba9c5abd6b91b3dcdb"
      ],
      "layout": "IPY_MODEL_ec16df9b38f74c99a57c6b5a8cb429ef"
     }
    },
    "226e657af4244679bfebb7622e7c3f67": {
     "model_module": "@jupyter-widgets/controls",
     "model_module_version": "1.5.0",
     "model_name": "DescriptionStyleModel",
     "state": {
      "_model_module": "@jupyter-widgets/controls",
      "_model_module_version": "1.5.0",
      "_model_name": "DescriptionStyleModel",
      "_view_count": null,
      "_view_module": "@jupyter-widgets/base",
      "_view_module_version": "1.2.0",
      "_view_name": "StyleView",
      "description_width": ""
     }
    },
    "29534eb56ece464b8c73b14de84a8f84": {
     "model_module": "@jupyter-widgets/base",
     "model_module_version": "1.2.0",
     "model_name": "LayoutModel",
     "state": {
      "_model_module": "@jupyter-widgets/base",
      "_model_module_version": "1.2.0",
      "_model_name": "LayoutModel",
      "_view_count": null,
      "_view_module": "@jupyter-widgets/base",
      "_view_module_version": "1.2.0",
      "_view_name": "LayoutView",
      "align_content": null,
      "align_items": null,
      "align_self": null,
      "border": null,
      "bottom": null,
      "display": null,
      "flex": null,
      "flex_flow": null,
      "grid_area": null,
      "grid_auto_columns": null,
      "grid_auto_flow": null,
      "grid_auto_rows": null,
      "grid_column": null,
      "grid_gap": null,
      "grid_row": null,
      "grid_template_areas": null,
      "grid_template_columns": null,
      "grid_template_rows": null,
      "height": null,
      "justify_content": null,
      "justify_items": null,
      "left": null,
      "margin": null,
      "max_height": null,
      "max_width": null,
      "min_height": null,
      "min_width": null,
      "object_fit": null,
      "object_position": null,
      "order": null,
      "overflow": null,
      "overflow_x": null,
      "overflow_y": null,
      "padding": null,
      "right": null,
      "top": null,
      "visibility": null,
      "width": null
     }
    },
    "48d8cf31430b4f99bc8ff38b9303a76a": {
     "model_module": "@jupyter-widgets/controls",
     "model_module_version": "1.5.0",
     "model_name": "DescriptionStyleModel",
     "state": {
      "_model_module": "@jupyter-widgets/controls",
      "_model_module_version": "1.5.0",
      "_model_name": "DescriptionStyleModel",
      "_view_count": null,
      "_view_module": "@jupyter-widgets/base",
      "_view_module_version": "1.2.0",
      "_view_name": "StyleView",
      "description_width": ""
     }
    },
    "58550e6df22a4be0ab060530d81fb6ad": {
     "model_module": "@jupyter-widgets/controls",
     "model_module_version": "1.5.0",
     "model_name": "VBoxModel",
     "state": {
      "_dom_classes": [],
      "_model_module": "@jupyter-widgets/controls",
      "_model_module_version": "1.5.0",
      "_model_name": "VBoxModel",
      "_view_count": null,
      "_view_module": "@jupyter-widgets/controls",
      "_view_module_version": "1.5.0",
      "_view_name": "VBoxView",
      "box_style": "",
      "children": [
       "IPY_MODEL_085805f269bb4f249cf3b104a416b7e6",
       "IPY_MODEL_1e160417549949bb847173bd6e23d463"
      ],
      "layout": "IPY_MODEL_9ec4e1c8803d42e6b6af2ceaba5afe33"
     }
    },
    "5cd556af8d0747ba9c5abd6b91b3dcdb": {
     "model_module": "@jupyter-widgets/controls",
     "model_module_version": "1.5.0",
     "model_name": "DropdownModel",
     "state": {
      "_dom_classes": [],
      "_model_module": "@jupyter-widgets/controls",
      "_model_module_version": "1.5.0",
      "_model_name": "DropdownModel",
      "_options_labels": [
       "line_angle_timeperiod",
       "fastperiod",
       "slowperiod",
       "signalperiod"
      ],
      "_view_count": null,
      "_view_module": "@jupyter-widgets/controls",
      "_view_module_version": "1.5.0",
      "_view_name": "DropdownView",
      "description": "axis 2:",
      "description_tooltip": null,
      "disabled": false,
      "index": 0,
      "layout": "IPY_MODEL_fe7cf8260eb34733845998ebf4c6d517",
      "style": "IPY_MODEL_48d8cf31430b4f99bc8ff38b9303a76a"
     }
    },
    "61e6aa3a3b7045e7bbe3b24dfb053637": {
     "model_module": "@jupyter-widgets/controls",
     "model_module_version": "1.5.0",
     "model_name": "ProgressStyleModel",
     "state": {
      "_model_module": "@jupyter-widgets/controls",
      "_model_module_version": "1.5.0",
      "_model_name": "ProgressStyleModel",
      "_view_count": null,
      "_view_module": "@jupyter-widgets/base",
      "_view_module_version": "1.2.0",
      "_view_name": "StyleView",
      "bar_color": null,
      "description_width": "initial"
     }
    },
    "64610cf5589d406e80e1cc5e6cda5926": {
     "model_module": "@jupyter-widgets/controls",
     "model_module_version": "1.5.0",
     "model_name": "DropdownModel",
     "state": {
      "_dom_classes": [],
      "_model_module": "@jupyter-widgets/controls",
      "_model_module_version": "1.5.0",
      "_model_name": "DropdownModel",
      "_options_labels": [
       "line_angle_timeperiod",
       "fastperiod",
       "slowperiod",
       "signalperiod"
      ],
      "_view_count": null,
      "_view_module": "@jupyter-widgets/controls",
      "_view_module_version": "1.5.0",
      "_view_name": "DropdownView",
      "description": "axis 1:",
      "description_tooltip": null,
      "disabled": false,
      "index": 0,
      "layout": "IPY_MODEL_e9b3fdcb78534c14a3496081d6eb8fab",
      "style": "IPY_MODEL_226e657af4244679bfebb7622e7c3f67"
     }
    },
    "85c64b89454840e7a54f5e7ddf072c91": {
     "model_module": "@jupyter-widgets/base",
     "model_module_version": "1.2.0",
     "model_name": "LayoutModel",
     "state": {
      "_model_module": "@jupyter-widgets/base",
      "_model_module_version": "1.2.0",
      "_model_name": "LayoutModel",
      "_view_count": null,
      "_view_module": "@jupyter-widgets/base",
      "_view_module_version": "1.2.0",
      "_view_name": "LayoutView",
      "align_content": null,
      "align_items": null,
      "align_self": null,
      "border": null,
      "bottom": null,
      "display": null,
      "flex": null,
      "flex_flow": null,
      "grid_area": null,
      "grid_auto_columns": null,
      "grid_auto_flow": null,
      "grid_auto_rows": null,
      "grid_column": null,
      "grid_gap": null,
      "grid_row": null,
      "grid_template_areas": null,
      "grid_template_columns": null,
      "grid_template_rows": null,
      "height": null,
      "justify_content": null,
      "justify_items": null,
      "left": null,
      "margin": null,
      "max_height": null,
      "max_width": null,
      "min_height": null,
      "min_width": null,
      "object_fit": null,
      "object_position": null,
      "order": null,
      "overflow": null,
      "overflow_x": null,
      "overflow_y": null,
      "padding": null,
      "right": null,
      "top": null,
      "visibility": null,
      "width": null
     }
    },
    "8c30f77df2bf46e2a39510490b78a4c9": {
     "model_module": "@jupyter-widgets/controls",
     "model_module_version": "1.5.0",
     "model_name": "DescriptionStyleModel",
     "state": {
      "_model_module": "@jupyter-widgets/controls",
      "_model_module_version": "1.5.0",
      "_model_name": "DescriptionStyleModel",
      "_view_count": null,
      "_view_module": "@jupyter-widgets/base",
      "_view_module_version": "1.2.0",
      "_view_name": "StyleView",
      "description_width": ""
     }
    },
    "9ec4e1c8803d42e6b6af2ceaba5afe33": {
     "model_module": "@jupyter-widgets/base",
     "model_module_version": "1.2.0",
     "model_name": "LayoutModel",
     "state": {
      "_model_module": "@jupyter-widgets/base",
      "_model_module_version": "1.2.0",
      "_model_name": "LayoutModel",
      "_view_count": null,
      "_view_module": "@jupyter-widgets/base",
      "_view_module_version": "1.2.0",
      "_view_name": "LayoutView",
      "align_content": null,
      "align_items": null,
      "align_self": null,
      "border": null,
      "bottom": null,
      "display": null,
      "flex": null,
      "flex_flow": null,
      "grid_area": null,
      "grid_auto_columns": null,
      "grid_auto_flow": null,
      "grid_auto_rows": null,
      "grid_column": null,
      "grid_gap": null,
      "grid_row": null,
      "grid_template_areas": null,
      "grid_template_columns": null,
      "grid_template_rows": null,
      "height": null,
      "justify_content": null,
      "justify_items": null,
      "left": null,
      "margin": null,
      "max_height": null,
      "max_width": null,
      "min_height": null,
      "min_width": null,
      "object_fit": null,
      "object_position": null,
      "order": null,
      "overflow": null,
      "overflow_x": null,
      "overflow_y": null,
      "padding": null,
      "right": null,
      "top": null,
      "visibility": null,
      "width": null
     }
    },
    "a0ea8ba374c142d0ade3658825863788": {
     "model_module": "@jupyter-widgets/controls",
     "model_module_version": "1.5.0",
     "model_name": "HBoxModel",
     "state": {
      "_dom_classes": [],
      "_model_module": "@jupyter-widgets/controls",
      "_model_module_version": "1.5.0",
      "_model_name": "HBoxModel",
      "_view_count": null,
      "_view_module": "@jupyter-widgets/controls",
      "_view_module_version": "1.5.0",
      "_view_name": "HBoxView",
      "box_style": "",
      "children": [
       "IPY_MODEL_e1638eaa07434d5791d33b12a323ae1d",
       "IPY_MODEL_f17f012839134ac2801342ad7f31f4be"
      ],
      "layout": "IPY_MODEL_cdf6765134744a6daec499dbacaf3cb8"
     }
    },
    "a473c1f099c24a7595d3c9268d463a1a": {
     "model_module": "@jupyter-widgets/output",
     "model_module_version": "1.0.0",
     "model_name": "OutputModel",
     "state": {
      "_dom_classes": [],
      "_model_module": "@jupyter-widgets/output",
      "_model_module_version": "1.0.0",
      "_model_name": "OutputModel",
      "_view_count": null,
      "_view_module": "@jupyter-widgets/output",
      "_view_module_version": "1.0.0",
      "_view_name": "OutputView",
      "layout": "IPY_MODEL_fdfd7f71e21a4235ac3f8bb5692fa5c4",
      "msg_id": "",
      "outputs": [
       {
        "image/png": "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\n",
        "metadata": {
         "tags": []
        },
        "output_type": "display_data",
        "text/plain": "<Figure size 432x288 with 1 Axes>"
       }
      ]
     }
    },
    "b9f5f65ae4254c6e9edfc66f760070ae": {
     "model_module": "@jupyter-widgets/controls",
     "model_module_version": "1.5.0",
     "model_name": "DescriptionStyleModel",
     "state": {
      "_model_module": "@jupyter-widgets/controls",
      "_model_module_version": "1.5.0",
      "_model_name": "DescriptionStyleModel",
      "_view_count": null,
      "_view_module": "@jupyter-widgets/base",
      "_view_module_version": "1.2.0",
      "_view_name": "StyleView",
      "description_width": ""
     }
    },
    "beee2933b9d24bd4b33d82756f096aa5": {
     "model_module": "@jupyter-widgets/base",
     "model_module_version": "1.2.0",
     "model_name": "LayoutModel",
     "state": {
      "_model_module": "@jupyter-widgets/base",
      "_model_module_version": "1.2.0",
      "_model_name": "LayoutModel",
      "_view_count": null,
      "_view_module": "@jupyter-widgets/base",
      "_view_module_version": "1.2.0",
      "_view_name": "LayoutView",
      "align_content": null,
      "align_items": null,
      "align_self": null,
      "border": null,
      "bottom": null,
      "display": null,
      "flex": null,
      "flex_flow": null,
      "grid_area": null,
      "grid_auto_columns": null,
      "grid_auto_flow": null,
      "grid_auto_rows": null,
      "grid_column": null,
      "grid_gap": null,
      "grid_row": null,
      "grid_template_areas": null,
      "grid_template_columns": null,
      "grid_template_rows": null,
      "height": null,
      "justify_content": null,
      "justify_items": null,
      "left": null,
      "margin": null,
      "max_height": null,
      "max_width": null,
      "min_height": null,
      "min_width": null,
      "object_fit": null,
      "object_position": null,
      "order": null,
      "overflow": null,
      "overflow_x": null,
      "overflow_y": null,
      "padding": null,
      "right": null,
      "top": null,
      "visibility": null,
      "width": null
     }
    },
    "cdf6765134744a6daec499dbacaf3cb8": {
     "model_module": "@jupyter-widgets/base",
     "model_module_version": "1.2.0",
     "model_name": "LayoutModel",
     "state": {
      "_model_module": "@jupyter-widgets/base",
      "_model_module_version": "1.2.0",
      "_model_name": "LayoutModel",
      "_view_count": null,
      "_view_module": "@jupyter-widgets/base",
      "_view_module_version": "1.2.0",
      "_view_name": "LayoutView",
      "align_content": null,
      "align_items": null,
      "align_self": null,
      "border": null,
      "bottom": null,
      "display": null,
      "flex": null,
      "flex_flow": null,
      "grid_area": null,
      "grid_auto_columns": null,
      "grid_auto_flow": null,
      "grid_auto_rows": null,
      "grid_column": null,
      "grid_gap": null,
      "grid_row": null,
      "grid_template_areas": null,
      "grid_template_columns": null,
      "grid_template_rows": null,
      "height": null,
      "justify_content": null,
      "justify_items": null,
      "left": null,
      "margin": null,
      "max_height": null,
      "max_width": null,
      "min_height": null,
      "min_width": null,
      "object_fit": null,
      "object_position": null,
      "order": null,
      "overflow": null,
      "overflow_x": null,
      "overflow_y": null,
      "padding": null,
      "right": null,
      "top": null,
      "visibility": null,
      "width": null
     }
    },
    "e1638eaa07434d5791d33b12a323ae1d": {
     "model_module": "@jupyter-widgets/controls",
     "model_module_version": "1.5.0",
     "model_name": "FloatProgressModel",
     "state": {
      "_dom_classes": [],
      "_model_module": "@jupyter-widgets/controls",
      "_model_module_version": "1.5.0",
      "_model_name": "FloatProgressModel",
      "_view_count": null,
      "_view_module": "@jupyter-widgets/controls",
      "_view_module_version": "1.5.0",
      "_view_name": "ProgressView",
      "bar_style": "success",
      "description": "100%",
      "description_tooltip": null,
      "layout": "IPY_MODEL_29534eb56ece464b8c73b14de84a8f84",
      "max": 400,
      "min": 0,
      "orientation": "horizontal",
      "style": "IPY_MODEL_61e6aa3a3b7045e7bbe3b24dfb053637",
      "value": 400
     }
    },
    "e9b3fdcb78534c14a3496081d6eb8fab": {
     "model_module": "@jupyter-widgets/base",
     "model_module_version": "1.2.0",
     "model_name": "LayoutModel",
     "state": {
      "_model_module": "@jupyter-widgets/base",
      "_model_module_version": "1.2.0",
      "_model_name": "LayoutModel",
      "_view_count": null,
      "_view_module": "@jupyter-widgets/base",
      "_view_module_version": "1.2.0",
      "_view_name": "LayoutView",
      "align_content": null,
      "align_items": null,
      "align_self": null,
      "border": null,
      "bottom": null,
      "display": null,
      "flex": null,
      "flex_flow": null,
      "grid_area": null,
      "grid_auto_columns": null,
      "grid_auto_flow": null,
      "grid_auto_rows": null,
      "grid_column": null,
      "grid_gap": null,
      "grid_row": null,
      "grid_template_areas": null,
      "grid_template_columns": null,
      "grid_template_rows": null,
      "height": null,
      "justify_content": null,
      "justify_items": null,
      "left": null,
      "margin": null,
      "max_height": null,
      "max_width": null,
      "min_height": null,
      "min_width": null,
      "object_fit": null,
      "object_position": null,
      "order": null,
      "overflow": null,
      "overflow_x": null,
      "overflow_y": null,
      "padding": null,
      "right": null,
      "top": null,
      "visibility": null,
      "width": null
     }
    },
    "ec16df9b38f74c99a57c6b5a8cb429ef": {
     "model_module": "@jupyter-widgets/base",
     "model_module_version": "1.2.0",
     "model_name": "LayoutModel",
     "state": {
      "_model_module": "@jupyter-widgets/base",
      "_model_module_version": "1.2.0",
      "_model_name": "LayoutModel",
      "_view_count": null,
      "_view_module": "@jupyter-widgets/base",
      "_view_module_version": "1.2.0",
      "_view_name": "LayoutView",
      "align_content": null,
      "align_items": null,
      "align_self": null,
      "border": null,
      "bottom": null,
      "display": null,
      "flex": null,
      "flex_flow": null,
      "grid_area": null,
      "grid_auto_columns": null,
      "grid_auto_flow": null,
      "grid_auto_rows": null,
      "grid_column": null,
      "grid_gap": null,
      "grid_row": null,
      "grid_template_areas": null,
      "grid_template_columns": null,
      "grid_template_rows": null,
      "height": null,
      "justify_content": null,
      "justify_items": null,
      "left": null,
      "margin": null,
      "max_height": null,
      "max_width": null,
      "min_height": null,
      "min_width": null,
      "object_fit": null,
      "object_position": null,
      "order": null,
      "overflow": null,
      "overflow_x": null,
      "overflow_y": null,
      "padding": null,
      "right": null,
      "top": null,
      "visibility": null,
      "width": null
     }
    },
    "f17f012839134ac2801342ad7f31f4be": {
     "model_module": "@jupyter-widgets/controls",
     "model_module_version": "1.5.0",
     "model_name": "HTMLModel",
     "state": {
      "_dom_classes": [],
      "_model_module": "@jupyter-widgets/controls",
      "_model_module_version": "1.5.0",
      "_model_name": "HTMLModel",
      "_view_count": null,
      "_view_module": "@jupyter-widgets/controls",
      "_view_module_version": "1.5.0",
      "_view_name": "HTMLView",
      "description": "",
      "description_tooltip": null,
      "layout": "IPY_MODEL_beee2933b9d24bd4b33d82756f096aa5",
      "placeholder": "​",
      "style": "IPY_MODEL_8c30f77df2bf46e2a39510490b78a4c9",
      "value": " 400/400 [00:11&lt;00:00, 35.42it/s]"
     }
    },
    "fdfd7f71e21a4235ac3f8bb5692fa5c4": {
     "model_module": "@jupyter-widgets/base",
     "model_module_version": "1.2.0",
     "model_name": "LayoutModel",
     "state": {
      "_model_module": "@jupyter-widgets/base",
      "_model_module_version": "1.2.0",
      "_model_name": "LayoutModel",
      "_view_count": null,
      "_view_module": "@jupyter-widgets/base",
      "_view_module_version": "1.2.0",
      "_view_name": "LayoutView",
      "align_content": null,
      "align_items": null,
      "align_self": null,
      "border": null,
      "bottom": null,
      "display": null,
      "flex": null,
      "flex_flow": null,
      "grid_area": null,
      "grid_auto_columns": null,
      "grid_auto_flow": null,
      "grid_auto_rows": null,
      "grid_column": null,
      "grid_gap": null,
      "grid_row": null,
      "grid_template_areas": null,
      "grid_template_columns": null,
      "grid_template_rows": null,
      "height": null,
      "justify_content": null,
      "justify_items": null,
      "left": null,
      "margin": null,
      "max_height": null,
      "max_width": null,
      "min_height": null,
      "min_width": null,
      "object_fit": null,
      "object_position": null,
      "order": null,
      "overflow": null,
      "overflow_x": null,
      "overflow_y": null,
      "padding": null,
      "right": null,
      "top": null,
      "visibility": null,
      "width": null
     }
    },
    "fe7cf8260eb34733845998ebf4c6d517": {
     "model_module": "@jupyter-widgets/base",
     "model_module_version": "1.2.0",
     "model_name": "LayoutModel",
     "state": {
      "_model_module": "@jupyter-widgets/base",
      "_model_module_version": "1.2.0",
      "_model_name": "LayoutModel",
      "_view_count": null,
      "_view_module": "@jupyter-widgets/base",
      "_view_module_version": "1.2.0",
      "_view_name": "LayoutView",
      "align_content": null,
      "align_items": null,
      "align_self": null,
      "border": null,
      "bottom": null,
      "display": null,
      "flex": null,
      "flex_flow": null,
      "grid_area": null,
      "grid_auto_columns": null,
      "grid_auto_flow": null,
      "grid_auto_rows": null,
      "grid_column": null,
      "grid_gap": null,
      "grid_row": null,
      "grid_template_areas": null,
      "grid_template_columns": null,
      "grid_template_rows": null,
      "height": null,
      "justify_content": null,
      "justify_items": null,
      "left": null,
      "margin": null,
      "max_height": null,
      "max_width": null,
      "min_height": null,
      "min_width": null,
      "object_fit": null,
      "object_position": null,
      "order": null,
      "overflow": null,
      "overflow_x": null,
      "overflow_y": null,
      "padding": null,
      "right": null,
      "top": null,
      "visibility": null,
      "width": null
     }
    }
   }
  }
 },
 "nbformat": 4,
 "nbformat_minor": 4
}
