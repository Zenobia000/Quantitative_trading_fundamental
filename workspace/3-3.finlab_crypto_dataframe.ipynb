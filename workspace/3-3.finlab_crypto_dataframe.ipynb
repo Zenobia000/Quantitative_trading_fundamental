{
 "cells": [
  {
   "cell_type": "markdown",
   "metadata": {
    "id": "BAmP_yGGzFhY"
   },
   "source": [
    "# Creating DataFrame\n",
    "[dataframe_api_reference](https://pandas.pydata.org/pandas-docs/stable/reference/api/pandas.DataFrame.html)\n",
    "\n",
    "## Parameters:\n",
    "\n",
    "**data**:\n",
    "\n",
    "ndarray (structured or homogeneous), Iterable, dict, or DataFrame\n",
    "Dict can contain Series, arrays, constants, or list-like objects.\n",
    "\n",
    "**index**:\n",
    "\n",
    "Index or array-like\n",
    "Index to use for resulting frame. Will default to RangeIndex if no indexing information part of input data and no index provided.\n",
    "\n",
    "**columns**:\n",
    "\n",
    "Index or array-like\n",
    "Column labels to use for resulting frame. Will default to RangeIndex (0, 1, 2, …, n) if no column labels are provided."
   ]
  },
  {
   "cell_type": "code",
   "execution_count": null,
   "metadata": {
    "colab": {
     "base_uri": "https://localhost:8080/",
     "height": 142
    },
    "id": "A-YtG5Lay8AZ",
    "outputId": "bd9d46c4-2cb3-4e3f-9f06-ad2497bc37e6"
   },
   "outputs": [],
   "source": [
    "import pandas as pd\n",
    "strategy = pd.DataFrame({'annual_return': [0.2, 0.4, 0.5], 'risk': [0.3, 0.4, 0.5]}, index=['sma', 'rsi', 'kd'])\n",
    "strategy"
   ]
  },
  {
   "cell_type": "markdown",
   "metadata": {
    "id": "QmrJHHrL0Bd2"
   },
   "source": [
    "# Series"
   ]
  },
  {
   "cell_type": "code",
   "execution_count": null,
   "metadata": {
    "colab": {
     "base_uri": "https://localhost:8080/"
    },
    "id": "93oOIm_g0A3V",
    "outputId": "9f1a5ea8-435f-47bb-f7dd-1d9b1205a817"
   },
   "outputs": [],
   "source": [
    "strategy['risk']"
   ]
  },
  {
   "cell_type": "markdown",
   "metadata": {
    "id": "KXhJNZEL0FMd"
   },
   "source": [
    "# Operations"
   ]
  },
  {
   "cell_type": "code",
   "execution_count": null,
   "metadata": {
    "colab": {
     "base_uri": "https://localhost:8080/"
    },
    "id": "ZtHLMqdX0G6o",
    "outputId": "dffd04d0-caf2-413d-bb2b-9be55e9d959c"
   },
   "outputs": [],
   "source": [
    "# sharpe ratio\n",
    "strategy['annual_return'] / strategy['risk']"
   ]
  },
  {
   "cell_type": "markdown",
   "metadata": {
    "id": "9kAhEquR0VJW"
   },
   "source": [
    "# Logic Expression"
   ]
  },
  {
   "cell_type": "code",
   "execution_count": null,
   "metadata": {
    "colab": {
     "base_uri": "https://localhost:8080/"
    },
    "id": "WswGGvPE0WsW",
    "outputId": "f7dbf876-d29e-453a-c4ef-5b0265ab9f86"
   },
   "outputs": [],
   "source": [
    "# test if risk <= 0.4\n",
    "strategy.risk <= 0.4"
   ]
  },
  {
   "cell_type": "markdown",
   "metadata": {
    "id": "svWP3EJC2ThT"
   },
   "source": [
    "# Row Selection"
   ]
  },
  {
   "cell_type": "code",
   "execution_count": null,
   "metadata": {
    "colab": {
     "base_uri": "https://localhost:8080/",
     "height": 111
    },
    "id": "Wvv8CrHS2VsJ",
    "outputId": "5c3f6f42-6b90-440b-9337-ff8d523bd3d9"
   },
   "outputs": [],
   "source": [
    "# select strategy where risk <= 0.4\n",
    "strategy[strategy.risk <= 0.4]"
   ]
  },
  {
   "cell_type": "markdown",
   "metadata": {
    "id": "yzteqHNO2WOp"
   },
   "source": [
    "# Reshape data\n",
    "\n",
    "[melt_api_reference](https://pandas.pydata.org/pandas-docs/stable/reference/api/pandas.melt.html)"
   ]
  },
  {
   "cell_type": "code",
   "execution_count": null,
   "metadata": {
    "colab": {
     "base_uri": "https://localhost:8080/",
     "height": 235
    },
    "id": "0djOzCTI2aqP",
    "outputId": "7b06e858-9cf0-4956-d8dc-f7030c7dbd91"
   },
   "outputs": [],
   "source": [
    "# melt\n",
    "strategy.melt()"
   ]
  },
  {
   "cell_type": "code",
   "execution_count": null,
   "metadata": {},
   "outputs": [],
   "source": []
  }
 ],
 "metadata": {
  "colab": {
   "provenance": []
  },
  "kernelspec": {
   "display_name": "Python 3 (ipykernel)",
   "language": "python",
   "name": "python3"
  },
  "language_info": {
   "codemirror_mode": {
    "name": "ipython",
    "version": 3
   },
   "file_extension": ".py",
   "mimetype": "text/x-python",
   "name": "python",
   "nbconvert_exporter": "python",
   "pygments_lexer": "ipython3",
   "version": "3.10.12"
  }
 },
 "nbformat": 4,
 "nbformat_minor": 4
}
